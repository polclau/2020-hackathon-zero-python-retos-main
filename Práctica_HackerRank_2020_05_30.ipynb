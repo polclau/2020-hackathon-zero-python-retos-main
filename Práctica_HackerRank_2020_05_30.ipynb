{
  "nbformat": 4,
  "nbformat_minor": 0,
  "metadata": {
    "colab": {
      "name": "Práctica HackerRank 2020.05.30",
      "provenance": [],
      "collapsed_sections": [],
      "include_colab_link": true
    },
    "kernelspec": {
      "name": "python3",
      "display_name": "Python 3"
    }
  },
  "cells": [
    {
      "cell_type": "markdown",
      "metadata": {
        "id": "view-in-github",
        "colab_type": "text"
      },
      "source": [
        "<a href=\"https://colab.research.google.com/github/polclau/2020-hackathon-zero-python-retos-main/blob/master/Pr%C3%A1ctica_HackerRank_2020_05_30.ipynb\" target=\"_parent\"><img src=\"https://colab.research.google.com/assets/colab-badge.svg\" alt=\"Open In Colab\"/></a>"
      ]
    },
    {
      "cell_type": "markdown",
      "metadata": {
        "id": "zr03t57wnBM1",
        "colab_type": "text"
      },
      "source": [
        "<a href = \"https://www.hackerrank.com/challenges/kangaroo/problem\">Kangaroo</a>"
      ]
    },
    {
      "cell_type": "code",
      "metadata": {
        "id": "37z4H3Dam7C7",
        "colab_type": "code",
        "outputId": "10ca9df4-50c9-4d46-b0a9-384138945596",
        "colab": {
          "base_uri": "https://localhost:8080/",
          "height": 106
        }
      },
      "source": [
        "def kangaroo(x1 = 0, v1 = 3, x2 = 4, v2 = 2):\n",
        "    max_num = 10000\n",
        "    assert((x1 < max_num) and (v1 < max_num) \\\n",
        "       and (x2 < max_num) and (v2 < max_num))\n",
        "    for step in range(max_num):\n",
        "        x1, x2 = x1 + v1, x2 + v2\n",
        "        print(x1, x2)\n",
        "        if (x1 == x2): return True\n",
        "    return False\n",
        "\n",
        "kangaroo()"
      ],
      "execution_count": 0,
      "outputs": [
        {
          "output_type": "stream",
          "text": [
            "3 6\n",
            "6 8\n",
            "9 10\n",
            "12 12\n"
          ],
          "name": "stdout"
        },
        {
          "output_type": "execute_result",
          "data": {
            "text/plain": [
              "True"
            ]
          },
          "metadata": {
            "tags": []
          },
          "execution_count": 16
        }
      ]
    }
  ]
}