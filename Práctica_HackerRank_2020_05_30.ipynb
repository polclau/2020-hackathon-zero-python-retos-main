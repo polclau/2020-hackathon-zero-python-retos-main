{
  "nbformat": 4,
  "nbformat_minor": 0,
  "metadata": {
    "colab": {
      "name": "Práctica HackerRank 2020.05.30",
      "provenance": [],
      "collapsed_sections": [],
      "include_colab_link": true
    },
    "kernelspec": {
      "name": "python3",
      "display_name": "Python 3"
    }
  },
  "cells": [
    {
      "cell_type": "markdown",
      "metadata": {
        "id": "view-in-github",
        "colab_type": "text"
      },
      "source": [
        "<a href=\"https://colab.research.google.com/github/polclau/2020-hackathon-zero-python-retos-main/blob/master/Pr%C3%A1ctica_HackerRank_2020_05_30.ipynb\" target=\"_parent\"><img src=\"https://colab.research.google.com/assets/colab-badge.svg\" alt=\"Open In Colab\"/></a>"
      ]
    },
    {
      "cell_type": "markdown",
      "metadata": {
        "id": "zr03t57wnBM1",
        "colab_type": "text"
      },
      "source": [
        "<a href = \"https://www.hackerrank.com/challenges/kangaroo/problem\">Kangaroo</a>"
      ]
    },
    {
      "cell_type": "code",
      "metadata": {
        "id": "37z4H3Dam7C7",
        "colab_type": "code",
        "colab": {}
      },
      "source": [
        "def kangaroo(x1 = 0, v1 = 3, x2 = 4, v2 = 2):\n",
        "    max_num = 10000\n",
        "    assert((x1 < max_num) and (v1 < max_num) \\\n",
        "       and (x2 < max_num) and (v2 < max_num))\n",
        "    for step in range(max_num):\n",
        "        print(x1, x2)\n",
        "        x1, x2 = x1 + v1, x2 + v2\n",
        "        if (x1 == x2):\n",
        "            print(x1, x2)\n",
        "            return \"YES\"\n",
        "    return \"NO\"\n",
        "\n",
        "kangaroo()"
      ],
      "execution_count": 0,
      "outputs": []
    },
    {
      "cell_type": "markdown",
      "metadata": {
        "id": "a3jAlTiIvd5I",
        "colab_type": "text"
      },
      "source": [
        "<i>Find the minimum positive integer outside (not included in) the input array.</i>\n",
        "<br><u>Constraints</u>:\n",
        "<ul><li>\"<code>len(arr) <= 100000</code>\"</li>\n",
        "<li>\"<code>min(arr) >= -1000000</code>\"</li>\n",
        "<li>\"<code>max(arr) <= +1000000</code>\"</li></ul>"
      ]
    },
    {
      "cell_type": "code",
      "metadata": {
        "id": "L3S84e0evdMQ",
        "colab_type": "code",
        "outputId": "1ae63574-3f97-4578-b8ef-7dcd9fe50884",
        "colab": {
          "base_uri": "https://localhost:8080/",
          "height": 35
        }
      },
      "source": [
        "import numpy\n",
        "def MPSO(array):\n",
        "    array = sorted(array)\n",
        "    assert((len(array) <= 100000) \\\n",
        "     and (min(array) >= -1000000) \\\n",
        "     and (max(array) <= +1000000))\n",
        "    tail = min(array)\n",
        "    array = numpy.array(array)\n",
        "    array2 = array - tail\n",
        "    array3 = numpy.arange(0, len(array2), 1)\n",
        "    mask = array3[array2 != array3]\n",
        "    return(tail + array3[mask][0])\n",
        "\n",
        "MPSO([5, 6, 7, 9])"
      ],
      "execution_count": 0,
      "outputs": [
        {
          "output_type": "execute_result",
          "data": {
            "text/plain": [
              "8"
            ]
          },
          "metadata": {
            "tags": []
          },
          "execution_count": 49
        }
      ]
    }
  ]
}